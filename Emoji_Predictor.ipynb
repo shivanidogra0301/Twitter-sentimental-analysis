{
  "nbformat": 4,
  "nbformat_minor": 0,
  "metadata": {
    "colab": {
      "name": "Emoji_Predictor.ipynb",
      "provenance": [],
      "collapsed_sections": []
    },
    "kernelspec": {
      "name": "python3",
      "display_name": "Python 3"
    }
  },
  "cells": [
    {
      "cell_type": "code",
      "metadata": {
        "id": "xGJN_YzudYG4",
        "colab_type": "code",
        "colab": {}
      },
      "source": [
        "import emoji\n",
        "import numpy as np\n",
        "import pandas as pd\n",
        "from keras.utils import to_categorical\n",
        "from keras.layers import *\n",
        "from keras.models import Sequential"
      ],
      "execution_count": 0,
      "outputs": []
    },
    {
      "cell_type": "code",
      "metadata": {
        "id": "nwfhZ-Jcds-P",
        "colab_type": "code",
        "colab": {}
      },
      "source": [
        "train=pd.read_csv(\"/content/train_emoji.csv\",header=None)\n",
        "test=pd.read_csv(\"/content/test_emoji.csv\",header=None)"
      ],
      "execution_count": 0,
      "outputs": []
    },
    {
      "cell_type": "code",
      "metadata": {
        "id": "4Yq9pxA4d-VG",
        "colab_type": "code",
        "outputId": "a1e7627f-01a4-481d-d32b-7e41034bb138",
        "colab": {
          "base_uri": "https://localhost:8080/",
          "height": 202
        }
      },
      "source": [
        "train.head()\n",
        "#Ist columns shows senetence and second the label"
      ],
      "execution_count": 0,
      "outputs": [
        {
          "output_type": "execute_result",
          "data": {
            "text/html": [
              "<div>\n",
              "<style scoped>\n",
              "    .dataframe tbody tr th:only-of-type {\n",
              "        vertical-align: middle;\n",
              "    }\n",
              "\n",
              "    .dataframe tbody tr th {\n",
              "        vertical-align: top;\n",
              "    }\n",
              "\n",
              "    .dataframe thead th {\n",
              "        text-align: right;\n",
              "    }\n",
              "</style>\n",
              "<table border=\"1\" class=\"dataframe\">\n",
              "  <thead>\n",
              "    <tr style=\"text-align: right;\">\n",
              "      <th></th>\n",
              "      <th>0</th>\n",
              "      <th>1</th>\n",
              "      <th>2</th>\n",
              "      <th>3</th>\n",
              "    </tr>\n",
              "  </thead>\n",
              "  <tbody>\n",
              "    <tr>\n",
              "      <th>0</th>\n",
              "      <td>never talk to me again</td>\n",
              "      <td>3</td>\n",
              "      <td>NaN</td>\n",
              "      <td>NaN</td>\n",
              "    </tr>\n",
              "    <tr>\n",
              "      <th>1</th>\n",
              "      <td>I am proud of your achievements</td>\n",
              "      <td>2</td>\n",
              "      <td>NaN</td>\n",
              "      <td>NaN</td>\n",
              "    </tr>\n",
              "    <tr>\n",
              "      <th>2</th>\n",
              "      <td>It is the worst day in my life</td>\n",
              "      <td>3</td>\n",
              "      <td>NaN</td>\n",
              "      <td>NaN</td>\n",
              "    </tr>\n",
              "    <tr>\n",
              "      <th>3</th>\n",
              "      <td>Miss you so much</td>\n",
              "      <td>0</td>\n",
              "      <td>NaN</td>\n",
              "      <td>[0]</td>\n",
              "    </tr>\n",
              "    <tr>\n",
              "      <th>4</th>\n",
              "      <td>food is life</td>\n",
              "      <td>4</td>\n",
              "      <td>NaN</td>\n",
              "      <td>NaN</td>\n",
              "    </tr>\n",
              "  </tbody>\n",
              "</table>\n",
              "</div>"
            ],
            "text/plain": [
              "                                 0  1   2     3\n",
              "0           never talk to me again  3 NaN   NaN\n",
              "1  I am proud of your achievements  2 NaN   NaN\n",
              "2   It is the worst day in my life  3 NaN   NaN\n",
              "3                 Miss you so much  0 NaN   [0]\n",
              "4                     food is life  4 NaN   NaN"
            ]
          },
          "metadata": {
            "tags": []
          },
          "execution_count": 6
        }
      ]
    },
    {
      "cell_type": "code",
      "metadata": {
        "id": "xGz4HMNResnN",
        "colab_type": "code",
        "colab": {}
      },
      "source": [
        "# emoji.EMOJI_ALIAS_UNICODE  shows all the emojis and its name"
      ],
      "execution_count": 0,
      "outputs": []
    },
    {
      "cell_type": "code",
      "metadata": {
        "id": "Yx5WTZ7ke8s0",
        "colab_type": "code",
        "colab": {}
      },
      "source": [
        "emoji_dictionary={\n",
        "    \"0\":\"\\u2764\\uFE0F\",\n",
        "     \"1\": \":baseball:\",\n",
        "      \"2\": \":beaming_face_with_smiling_eyes:\",\n",
        "      \"3\": \":downcast_face_with_sweat:\",\n",
        "      \"4\": \":fork_and_knife:\"\n",
        "}"
      ],
      "execution_count": 0,
      "outputs": []
    },
    {
      "cell_type": "code",
      "metadata": {
        "id": "SQ9OfZdQfbxc",
        "colab_type": "code",
        "outputId": "4293815e-a794-4987-8baf-7ede32006eb0",
        "colab": {
          "base_uri": "https://localhost:8080/",
          "height": 35
        }
      },
      "source": [
        "emoji.emojize(\":fork_and_knife:\")"
      ],
      "execution_count": 0,
      "outputs": [
        {
          "output_type": "execute_result",
          "data": {
            "text/plain": [
              "'🍴'"
            ]
          },
          "metadata": {
            "tags": []
          },
          "execution_count": 10
        }
      ]
    },
    {
      "cell_type": "code",
      "metadata": {
        "id": "AEJsNC0tfyU4",
        "colab_type": "code",
        "outputId": "1dab5ed5-5c34-4507-f5c9-1014d6ce5e13",
        "colab": {
          "base_uri": "https://localhost:8080/",
          "height": 104
        }
      },
      "source": [
        "#emojis we will used in our data\n",
        "for e in emoji_dictionary.values():\n",
        "  print(emoji.emojize(e))"
      ],
      "execution_count": 0,
      "outputs": [
        {
          "output_type": "stream",
          "text": [
            "❤️\n",
            "⚾\n",
            "😁\n",
            "😓\n",
            "🍴\n"
          ],
          "name": "stdout"
        }
      ]
    },
    {
      "cell_type": "code",
      "metadata": {
        "id": "E7kwknqigD6R",
        "colab_type": "code",
        "outputId": "8cd8252d-47b5-46d3-ed7d-4e74cbfc9bc3",
        "colab": {
          "base_uri": "https://localhost:8080/",
          "height": 191
        }
      },
      "source": [
        "data=train.values\n",
        "for i in range(10):\n",
        "  print(data[i][0],emoji.emojize(emoji_dictionary[str(data[i][1])]))"
      ],
      "execution_count": 0,
      "outputs": [
        {
          "output_type": "stream",
          "text": [
            "never talk to me again 😓\n",
            "I am proud of your achievements 😁\n",
            "It is the worst day in my life 😓\n",
            "Miss you so much ❤️\n",
            "food is life 🍴\n",
            "I love you mum ❤️\n",
            "Stop saying bullshit 😓\n",
            "congratulations on your acceptance 😁\n",
            "The assignment is too long  😓\n",
            "I want to go play ⚾\n"
          ],
          "name": "stdout"
        }
      ]
    },
    {
      "cell_type": "code",
      "metadata": {
        "id": "f6Q9pzF4gzem",
        "colab_type": "code",
        "outputId": "44cee833-703c-45ca-99ce-e925507dd4bf",
        "colab": {
          "base_uri": "https://localhost:8080/",
          "height": 87
        }
      },
      "source": [
        "XT=train[0]\n",
        "Xt=test[0]\n",
        "YT=to_categorical(train[1])\n",
        "Yt=to_categorical(test[1])\n",
        "print(XT.shape)\n",
        "print(Xt.shape)\n",
        "print(YT.shape)\n",
        "print(Yt.shape)"
      ],
      "execution_count": 0,
      "outputs": [
        {
          "output_type": "stream",
          "text": [
            "(132,)\n",
            "(56,)\n",
            "(132, 5)\n",
            "(56, 5)\n"
          ],
          "name": "stdout"
        }
      ]
    },
    {
      "cell_type": "code",
      "metadata": {
        "id": "qpqy40hRh5TW",
        "colab_type": "code",
        "colab": {}
      },
      "source": [
        "!wget http://nlp.stanford.edu/data/glove.6B.zip"
      ],
      "execution_count": 0,
      "outputs": []
    },
    {
      "cell_type": "code",
      "metadata": {
        "id": "brBiyPNqh_mc",
        "colab_type": "code",
        "outputId": "50f6be37-719a-4270-ce9c-601ee23afe33",
        "colab": {
          "base_uri": "https://localhost:8080/",
          "height": 104
        }
      },
      "source": [
        "!unzip glove*.zip"
      ],
      "execution_count": 0,
      "outputs": [
        {
          "output_type": "stream",
          "text": [
            "Archive:  glove.6B.zip\n",
            "  inflating: glove.6B.50d.txt        \n",
            "  inflating: glove.6B.100d.txt       \n",
            "  inflating: glove.6B.200d.txt       \n",
            "  inflating: glove.6B.300d.txt       \n"
          ],
          "name": "stdout"
        }
      ]
    },
    {
      "cell_type": "code",
      "metadata": {
        "id": "4nX8D0valB6Y",
        "colab_type": "code",
        "outputId": "38458c83-cfb7-4657-f57d-e4fcb49f6443",
        "colab": {
          "base_uri": "https://localhost:8080/",
          "height": 312
        }
      },
      "source": [
        "embeddings={}\n",
        "count=0\n",
        "with open('/content/glove.6B.50d.txt',encoding='utf-8')as f:\n",
        "  for line in f:\n",
        "      values=line.split()\n",
        "      word=values[0]\n",
        "      coeff=np.asarray(values[1:],dtype='float32')\n",
        "      count=count+1\n",
        "      if(count<=2):\n",
        "        print(word,coeff) #display two words from glove\n",
        "      embeddings[word]=coeff  "
      ],
      "execution_count": 0,
      "outputs": [
        {
          "output_type": "stream",
          "text": [
            "the [ 4.1800e-01  2.4968e-01 -4.1242e-01  1.2170e-01  3.4527e-01 -4.4457e-02\n",
            " -4.9688e-01 -1.7862e-01 -6.6023e-04 -6.5660e-01  2.7843e-01 -1.4767e-01\n",
            " -5.5677e-01  1.4658e-01 -9.5095e-03  1.1658e-02  1.0204e-01 -1.2792e-01\n",
            " -8.4430e-01 -1.2181e-01 -1.6801e-02 -3.3279e-01 -1.5520e-01 -2.3131e-01\n",
            " -1.9181e-01 -1.8823e+00 -7.6746e-01  9.9051e-02 -4.2125e-01 -1.9526e-01\n",
            "  4.0071e+00 -1.8594e-01 -5.2287e-01 -3.1681e-01  5.9213e-04  7.4449e-03\n",
            "  1.7778e-01 -1.5897e-01  1.2041e-02 -5.4223e-02 -2.9871e-01 -1.5749e-01\n",
            " -3.4758e-01 -4.5637e-02 -4.4251e-01  1.8785e-01  2.7849e-03 -1.8411e-01\n",
            " -1.1514e-01 -7.8581e-01]\n",
            ", [ 0.013441  0.23682  -0.16899   0.40951   0.63812   0.47709  -0.42852\n",
            " -0.55641  -0.364    -0.23938   0.13001  -0.063734 -0.39575  -0.48162\n",
            "  0.23291   0.090201 -0.13324   0.078639 -0.41634  -0.15428   0.10068\n",
            "  0.48891   0.31226  -0.1252   -0.037512 -1.5179    0.12612  -0.02442\n",
            " -0.042961 -0.28351   3.5416   -0.11956  -0.014533 -0.1499    0.21864\n",
            " -0.33412  -0.13872   0.31806   0.70358   0.44858  -0.080262  0.63003\n",
            "  0.32111  -0.46765   0.22786   0.36034  -0.37818  -0.56657   0.044691\n",
            "  0.30392 ]\n"
          ],
          "name": "stdout"
        }
      ]
    },
    {
      "cell_type": "code",
      "metadata": {
        "id": "ug9c7pD6mTOu",
        "colab_type": "code",
        "colab": {}
      },
      "source": [
        "#so above you can see word with 50 coeff\n",
        "#so here we want make our embedding layer of size 135(no of lines),10(no of words),50(words embedding size)\n",
        "def getOutputEmbeddings(X):\n",
        "  embedding_matrix_output=np.zeros((X.shape[0],10,50))\n",
        "  for ix in range(X.shape[0]):\n",
        "    X[ix]=X[ix].split() # so our next loop iterate over every word\n",
        "    for jx in range(len(X[ix])):\n",
        "      embedding_matrix_output[ix][jx]=embeddings[X[ix][jx].lower()]\n",
        "  return embedding_matrix_output"
      ],
      "execution_count": 0,
      "outputs": []
    },
    {
      "cell_type": "code",
      "metadata": {
        "id": "K3FzdT7lnMnO",
        "colab_type": "code",
        "colab": {}
      },
      "source": [
        "emb_XT = getOutputEmbeddings(XT)\n",
        "emb_Xt = getOutputEmbeddings(Xt)"
      ],
      "execution_count": 0,
      "outputs": []
    },
    {
      "cell_type": "code",
      "metadata": {
        "id": "V-UMLSuyq0HS",
        "colab_type": "code",
        "outputId": "bbcdcf3c-5f5c-4b81-a80a-41e272aae468",
        "colab": {
          "base_uri": "https://localhost:8080/",
          "height": 52
        }
      },
      "source": [
        "print(emb_XT.shape)\n",
        "print(emb_Xt.shape)\n"
      ],
      "execution_count": 0,
      "outputs": [
        {
          "output_type": "stream",
          "text": [
            "(132, 10, 50)\n",
            "(56, 10, 50)\n"
          ],
          "name": "stdout"
        }
      ]
    },
    {
      "cell_type": "code",
      "metadata": {
        "id": "2V2ZybtFq7Hz",
        "colab_type": "code",
        "outputId": "28f8f686-3ff3-4abd-ea0d-0b8292fc35b8",
        "colab": {
          "base_uri": "https://localhost:8080/",
          "height": 364
        }
      },
      "source": [
        "model = Sequential()\n",
        "model.add(LSTM(64,input_shape=(10,50),return_sequences=True))\n",
        "model.add(Dropout(0.4))\n",
        "model.add(LSTM(64,input_shape=(10,50)))\n",
        "model.add(Dropout(0.3))\n",
        "model.add(Dense(5))\n",
        "model.add(Activation('softmax'))\n",
        "model.summary()"
      ],
      "execution_count": 0,
      "outputs": [
        {
          "output_type": "stream",
          "text": [
            "Model: \"sequential_1\"\n",
            "_________________________________________________________________\n",
            "Layer (type)                 Output Shape              Param #   \n",
            "=================================================================\n",
            "lstm_1 (LSTM)                (None, 10, 64)            29440     \n",
            "_________________________________________________________________\n",
            "dropout_1 (Dropout)          (None, 10, 64)            0         \n",
            "_________________________________________________________________\n",
            "lstm_2 (LSTM)                (None, 64)                33024     \n",
            "_________________________________________________________________\n",
            "dropout_2 (Dropout)          (None, 64)                0         \n",
            "_________________________________________________________________\n",
            "dense_1 (Dense)              (None, 5)                 325       \n",
            "_________________________________________________________________\n",
            "activation_1 (Activation)    (None, 5)                 0         \n",
            "=================================================================\n",
            "Total params: 62,789\n",
            "Trainable params: 62,789\n",
            "Non-trainable params: 0\n",
            "_________________________________________________________________\n"
          ],
          "name": "stdout"
        }
      ]
    },
    {
      "cell_type": "code",
      "metadata": {
        "id": "IuxKjkps1Gnr",
        "colab_type": "code",
        "colab": {}
      },
      "source": [
        "model.compile(optimizer='adam',loss='categorical_crossentropy',metrics=['acc'])\n",
        "model.fit(emb_XT,YT,batch_size=32,epochs=40,shuffle=True,validation_split=0.1)"
      ],
      "execution_count": 0,
      "outputs": []
    },
    {
      "cell_type": "code",
      "metadata": {
        "id": "7UemiEbU1NgW",
        "colab_type": "code",
        "outputId": "b42c964c-4833-41fc-9fe4-e0a288c89bdb",
        "colab": {
          "base_uri": "https://localhost:8080/",
          "height": 52
        }
      },
      "source": [
        "model.evaluate(emb_Xt,Yt)"
      ],
      "execution_count": 0,
      "outputs": [
        {
          "output_type": "stream",
          "text": [
            "56/56 [==============================] - 0s 298us/step\n"
          ],
          "name": "stdout"
        },
        {
          "output_type": "execute_result",
          "data": {
            "text/plain": [
              "[1.1397899900163924, 0.6785714030265808]"
            ]
          },
          "metadata": {
            "tags": []
          },
          "execution_count": 40
        }
      ]
    },
    {
      "cell_type": "code",
      "metadata": {
        "id": "qQzu6XM71TwN",
        "colab_type": "code",
        "colab": {}
      },
      "source": [
        "pred = model.predict_classes(emb_Xt)"
      ],
      "execution_count": 0,
      "outputs": []
    },
    {
      "cell_type": "code",
      "metadata": {
        "id": "5rXkOJGM1V2H",
        "colab_type": "code",
        "outputId": "a8c8eb82-790d-4f3e-821a-b63047042bca",
        "colab": {
          "base_uri": "https://localhost:8080/",
          "height": 277
        }
      },
      "source": [
        "#testing the predictions\n",
        "for i in range(5):\n",
        "    print(' '.join(Xt[i]))\n",
        "    print(emoji.emojize(emoji_dictionary[str(np.argmax(Yt[i]))]))\n",
        "    print(emoji.emojize(emoji_dictionary[str(pred[i])]))"
      ],
      "execution_count": 0,
      "outputs": [
        {
          "output_type": "stream",
          "text": [
            "I want to eat\n",
            "🍴\n",
            "🍴\n",
            "he did not answer\n",
            "😓\n",
            "😓\n",
            "he got a raise\n",
            "😁\n",
            "❤️\n",
            "she got me a present\n",
            "❤️\n",
            "❤️\n",
            "ha ha ha it was so funny\n",
            "😁\n",
            "😁\n"
          ],
          "name": "stdout"
        }
      ]
    },
    {
      "cell_type": "code",
      "metadata": {
        "id": "q4VLo3OT1Y6U",
        "colab_type": "code",
        "colab": {}
      },
      "source": [
        ""
      ],
      "execution_count": 0,
      "outputs": []
    }
  ]
}